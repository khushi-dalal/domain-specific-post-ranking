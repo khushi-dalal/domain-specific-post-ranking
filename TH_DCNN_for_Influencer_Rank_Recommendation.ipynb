{
  "nbformat": 4,
  "nbformat_minor": 0,
  "metadata": {
    "colab": {
      "provenance": []
    },
    "kernelspec": {
      "name": "python3",
      "display_name": "Python 3"
    },
    "language_info": {
      "name": "python"
    }
  },
  "cells": [
    {
      "cell_type": "code",
      "execution_count": null,
      "metadata": {
        "id": "iJeHEgq1BdK6"
      },
      "outputs": [],
      "source": [
        "import pandas as pd\n",
        "import torch\n",
        "import torch.nn as nn\n",
        "import torch.optim as optim\n",
        "from torch.utils.data import DataLoader, Dataset\n",
        "from sklearn.feature_extraction.text import TfidfVectorizer\n",
        "from sklearn.preprocessing import LabelEncoder\n",
        "import numpy as np"
      ]
    },
    {
      "cell_type": "code",
      "source": [
        "# Load your dataset\n",
        "df = pd.read_csv(\"/content/sample_data/twitter_data.csv\")  # Update with the path to your dataset\n",
        "\n",
        "# Preprocessing\n",
        "# Encode users\n",
        "user_encoder = LabelEncoder()\n",
        "df[\"user_encoded\"] = user_encoder.fit_transform(df[\"user\"])\n",
        "\n",
        "# Convert tweets and hashtags to TF-IDF vectors\n",
        "tfidf_vectorizer = TfidfVectorizer(max_features=50)  # Use the top 50 features\n",
        "tweets_tfidf = tfidf_vectorizer.fit_transform(df[\"tweets\"]).toarray()\n",
        "hashtags_tfidf = tfidf_vectorizer.fit_transform(df[\"hashtags\"]).toarray()\n",
        "\n",
        "# Combine features\n",
        "df[\"features\"] = df.apply(\n",
        "    lambda row: np.concatenate(\n",
        "        [tweets_tfidf[row.name], hashtags_tfidf[row.name], [row[\"user_encoded\"]]]\n",
        "    ),\n",
        "    axis=1,\n",
        ")\n",
        "\n",
        "# Placeholder labels (in a real scenario, you would have actual labels)\n",
        "df[\"labels\"] = np.random.randint(0, 5, size=len(df))  # Example: 5 classes"
      ],
      "metadata": {
        "id": "v-9L22zWHF12"
      },
      "execution_count": null,
      "outputs": []
    },
    {
      "cell_type": "code",
      "source": [
        "# Dataset Class\n",
        "class TwitterDataset(Dataset):\n",
        "    def __init__(self, data):\n",
        "        self.features = np.stack(data[\"features\"].values)\n",
        "        self.labels = data[\"labels\"].values\n",
        "\n",
        "    def __len__(self):\n",
        "        return len(self.features)\n",
        "\n",
        "    def __getitem__(self, idx):\n",
        "        return {\"features\": self.features[idx], \"labels\": self.labels[idx]}"
      ],
      "metadata": {
        "id": "0Vg8ax0PHNmc"
      },
      "execution_count": null,
      "outputs": []
    },
    {
      "cell_type": "code",
      "source": [
        "# Define TH-DCNN Model (same as before)\n",
        "class TH_DCNN(nn.Module):\n",
        "    def __init__(self, input_size, conv_filters, dense_units, num_classes):\n",
        "        super(TH_DCNN, self).__init__()\n",
        "        self.conv1 = nn.Conv1d(in_channels=1, out_channels=conv_filters, kernel_size=3, stride=1, padding=1)\n",
        "        self.pool1 = nn.MaxPool1d(kernel_size=2)\n",
        "        self.conv2 = nn.Conv1d(in_channels=conv_filters, out_channels=conv_filters * 2, kernel_size=3, stride=1, padding=1)\n",
        "        self.pool2 = nn.MaxPool1d(kernel_size=2)\n",
        "        self.flattened_size = (input_size // 4) * (conv_filters * 2)\n",
        "        self.fc1 = nn.Linear(self.flattened_size, dense_units)\n",
        "        self.fc2 = nn.Linear(dense_units, num_classes)\n",
        "        self.softmax = nn.Softmax(dim=1)\n",
        "\n",
        "    def forward(self, x):\n",
        "        x = x.unsqueeze(1)\n",
        "        x = self.conv1(x)\n",
        "        x = self.pool1(torch.relu(x))\n",
        "        x = self.conv2(x)\n",
        "        x = self.pool2(torch.relu(x))\n",
        "        x = x.view(x.size(0), -1)\n",
        "        x = torch.relu(self.fc1(x))\n",
        "        x = self.fc2(x)\n",
        "        x = self.softmax(x)\n",
        "        return x"
      ],
      "metadata": {
        "id": "GYaQyGWfBh5Y"
      },
      "execution_count": null,
      "outputs": []
    },
    {
      "cell_type": "code",
      "source": [
        "import matplotlib.pyplot as plt\n",
        "\n",
        "def train_model(model, dataloader, criterion, optimizer, num_epochs):\n",
        "    epoch_losses = []  # To store epoch-wise loss\n",
        "    for epoch in range(num_epochs):\n",
        "        model.train()\n",
        "        epoch_loss = 0\n",
        "        for batch in dataloader:\n",
        "            features = batch[\"features\"].float()\n",
        "            labels = batch[\"labels\"].long()\n",
        "            predictions = model(features)\n",
        "            loss = criterion(predictions, labels)\n",
        "            epoch_loss += loss.item()\n",
        "            optimizer.zero_grad()\n",
        "            loss.backward()\n",
        "            optimizer.step()\n",
        "        epoch_losses.append(epoch_loss)  # Append epoch loss\n",
        "        print(f\"Epoch {epoch + 1}/{num_epochs}, Loss: {epoch_loss:.4f}\")\n",
        "\n",
        "    # Return epoch losses for visualization\n",
        "    return epoch_losses"
      ],
      "metadata": {
        "id": "Hj4p3xGeB7gv"
      },
      "execution_count": null,
      "outputs": []
    },
    {
      "cell_type": "code",
      "source": [
        "# Rank Influencers (same as before)\n",
        "def rank_influencers(model, dataloader):\n",
        "    model.eval()\n",
        "    influencer_scores = []\n",
        "    with torch.no_grad():\n",
        "        for batch in dataloader:\n",
        "            features = batch[\"features\"].float()\n",
        "            predictions = model(features)\n",
        "            influencer_scores.extend(predictions.numpy())\n",
        "    rankings = np.argsort(-np.array(influencer_scores), axis=0)\n",
        "    return rankings"
      ],
      "metadata": {
        "id": "G4SJVx9_CBH8"
      },
      "execution_count": null,
      "outputs": []
    },
    {
      "cell_type": "code",
      "source": [
        "def plot_loss_curve(epoch_losses):\n",
        "    plt.figure(figsize=(10, 6))\n",
        "    plt.plot(range(1, len(epoch_losses) + 1), epoch_losses, marker='o', linestyle='-', color='b')\n",
        "    plt.title(\"Training Loss Curve\", fontsize=16)\n",
        "    plt.xlabel(\"Epoch\", fontsize=14)\n",
        "    plt.ylabel(\"Loss\", fontsize=14)\n",
        "    plt.grid(True)\n",
        "    plt.show()"
      ],
      "metadata": {
        "id": "gz1ldZ5fVBU-"
      },
      "execution_count": null,
      "outputs": []
    },
    {
      "cell_type": "code",
      "source": [
        "# Example Usage\n",
        "dataset = TwitterDataset(df)\n",
        "dataloader = DataLoader(dataset, batch_size=10, shuffle=True)\n",
        "\n",
        "# Model Parameters\n",
        "input_size = tweets_tfidf.shape[1] + hashtags_tfidf.shape[1] + 1  # TF-IDF features + encoded user\n",
        "conv_filters = 32\n",
        "dense_units = 64\n",
        "num_classes = 5\n",
        "learning_rate = 0.001\n",
        "num_epochs = 10\n",
        "\n",
        "model = TH_DCNN(input_size=input_size, conv_filters=conv_filters, dense_units=dense_units, num_classes=num_classes)\n",
        "criterion = nn.CrossEntropyLoss()\n",
        "optimizer = optim.Adam(model.parameters(), lr=learning_rate)\n",
        "\n",
        "# Train the model\n",
        "train_model(model, dataloader, criterion, optimizer, num_epochs)\n",
        "\n",
        "# Rank influencers\n",
        "rankings = rank_influencers(model, dataloader)\n",
        "print(\"Influencer Rankings:\", rankings)\n",
        "\n",
        "# Plot the loss curve\n",
        "plot_loss_curve(epoch_losses)"
      ],
      "metadata": {
        "colab": {
          "base_uri": "https://localhost:8080/",
          "height": 866
        },
        "id": "PMic9YvyCHru",
        "outputId": "744b2520-c67c-4627-d1ed-5abe677b5e54"
      },
      "execution_count": null,
      "outputs": [
        {
          "output_type": "stream",
          "name": "stdout",
          "text": [
            "Epoch 1/10, Loss: 1609.6220\n",
            "Epoch 2/10, Loss: 1609.4982\n",
            "Epoch 3/10, Loss: 1609.4589\n",
            "Epoch 4/10, Loss: 1609.4549\n",
            "Epoch 5/10, Loss: 1609.4693\n",
            "Epoch 6/10, Loss: 1609.4977\n",
            "Epoch 7/10, Loss: 1609.4849\n",
            "Epoch 8/10, Loss: 1609.4283\n",
            "Epoch 9/10, Loss: 1609.0331\n",
            "Epoch 10/10, Loss: 1608.9250\n",
            "Influencer Rankings: [[1920 2636 5886 7470 3412]\n",
            " [4048 6330 6016 4220 7016]\n",
            " [3823 8126 3651 7016 7470]\n",
            " ...\n",
            " [3412 7016 7016 2636 2636]\n",
            " [7016 3412 3412 8126 2590]\n",
            " [7470 7470 7470 9047 4301]]\n"
          ]
        },
        {
          "output_type": "display_data",
          "data": {
            "text/plain": [
              "<Figure size 1000x600 with 1 Axes>"
            ],
            "image/png": "[encoded data removed]"
          },
          "metadata": {}
        }
      ]
    }
  ]
}