{
  "nbformat": 4,
  "nbformat_minor": 0,
  "metadata": {
    "colab": {
      "provenance": []
    },
    "kernelspec": {
      "name": "python3",
      "display_name": "Python 3"
    },
    "language_info": {
      "name": "python"
    }
  },
  "cells": [
    {
      "cell_type": "markdown",
      "source": [
        "3.5 seed node selection\n",
        "\n",
        "Generate rules based on Tweet engagement (likes + retweets).\n",
        "Apply convolution operation to perform lightweight filtering.\n",
        "Evaluate activation function for classification.\n",
        "Perform batch normalization and concatenation for model input.\n",
        "Iterate until convergence based on loss criteria.\n",
        "This script processes your dataset using convolution, activation functions, and batch normalization to classify influenced nodes."
      ],
      "metadata": {
        "id": "_sCadcdK7KfS"
      }
    },
    {
      "cell_type": "code",
      "execution_count": null,
      "metadata": {
        "colab": {
          "base_uri": "https://localhost:8080/"
        },
        "id": "IQLx_huK6Of_",
        "outputId": "0aca243e-6e56-454b-a275-6cd1ae29c9df"
      },
      "outputs": [
        {
          "output_type": "stream",
          "name": "stdout",
          "text": [
            "      #                                NAME    FOLLOWERS      ER COUNTRY  \\\n",
            "0     1            Virat Kohli @virat.kohli  267100000.0  0.0002   India   \n",
            "1     2         Narendra Modi @narendramodi   87300000.0  0.0223   India   \n",
            "2     3            Alia Bhatt 💛 @aliaabhatt   83700000.0  0.0002   India   \n",
            "3     4           Katrina Kaif @katrinakaif   79700000.0  0.0087   India   \n",
            "4     5     दीपिका पादुकोण @deepikapadukone   78900000.0  0.0218   India   \n",
            "..  ...                                 ...          ...     ...     ...   \n",
            "95   96           Raghav Juyal @raghavjuyal   11400000.0  0.0334   India   \n",
            "96   97  Siddharth Nigam @thesiddharthnigam   11300000.0  0.0087   India   \n",
            "97   98             MC STΔN 💔 @m___c___stan   11100000.0  0.1319   India   \n",
            "98   99               Sahil Khan @sahilkhan   11000000.0  0.0115   India   \n",
            "99  100               Ajay Devgn @ajaydevgn   10800000.0  0.0212   India   \n",
            "\n",
            "                                   TOPIC OF INFLUENCE  POTENTIAL REACH  \\\n",
            "0                              Sports Cricket Athlete       80100000.0   \n",
            "1                                            Politics       26200000.0   \n",
            "2             Acting and Drama Celebrity Actors Actor       25100000.0   \n",
            "3         Beauty and Self Care Celebrity Actors Actor       23900000.0   \n",
            "4                      Entertainment and Music Actors       23700000.0   \n",
            "..                                                ...              ...   \n",
            "95  Entertainment and Music Home and Garden Music ...        3400000.0   \n",
            "96           Entertainment and Music Sports Celebrity        3400000.0   \n",
            "97    Entertainment and Music Fashion and Accessories        3300000.0   \n",
            "98  Fitness and Health Product Education Gym Coaching        3300000.0   \n",
            "99                                   Acting and Drama        3300000.0   \n",
            "\n",
            "         Score  Activated  Normalized  \n",
            "0   80153420.0          1    3.879656  \n",
            "1   28146790.0          1    5.085188  \n",
            "2   25116740.0          1    2.418465  \n",
            "3   24593390.0          1    2.287587  \n",
            "4   25420020.0          1    2.229105  \n",
            "..         ...        ...         ...  \n",
            "95   3780760.0          1   -0.801631  \n",
            "96   3498310.0          1   -0.740409  \n",
            "97   4764090.0          1   -0.757412  \n",
            "98   3426500.0          1   -0.755941  \n",
            "99   3528960.0          1   -0.984604  \n",
            "\n",
            "[100 rows x 10 columns]\n"
          ]
        }
      ],
      "source": [
        "import pandas as pd\n",
        "import numpy as np\n",
        "\n",
        "def convert_to_numeric(value):\n",
        "    \"\"\"Convert follower and reach values from 'M' notation to actual numbers.\"\"\"\n",
        "    if isinstance(value, str) and 'M' in value:\n",
        "        return float(value.replace('M', '')) * 1_000_000\n",
        "    # Convert to numeric, handling errors by setting invalid values to NaN\n",
        "    # This ensures all values are numeric or NaN, allowing median to work correctly.\n",
        "    return pd.to_numeric(value, errors='coerce')\n",
        "\n",
        "def generate_rules(df):\n",
        "    \"\"\"Generate scores based on Followers, ER, and Potential Reach.\"\"\"\n",
        "    df['FOLLOWERS'] = df['FOLLOWERS'].apply(convert_to_numeric)\n",
        "    # Fill NaN values after converting to numeric\n",
        "    df['FOLLOWERS'] = df['FOLLOWERS'].fillna(df['FOLLOWERS'].median())\n",
        "    # Convert 'ER' column to numeric by removing '%' and dividing by 100\n",
        "    df['ER'] = df['ER'].str.rstrip('%').astype(float) / 100\n",
        "    df['ER'] = df['ER'].fillna(df['ER'].median())\n",
        "    # **Change:** Apply fillna after converting the entire column to numeric\n",
        "    df['POTENTIAL REACH'] = df['POTENTIAL REACH'].apply(convert_to_numeric)\n",
        "    df['POTENTIAL REACH'] = df['POTENTIAL REACH'].fillna(df['POTENTIAL REACH'].median())\n",
        "\n",
        "    df['Score'] = df['FOLLOWERS'] * df['ER'] + df['POTENTIAL REACH']\n",
        "    return df\n",
        "\n",
        "def convolution_operation(scores, kernel_size=3):\n",
        "    \"\"\"Perform a simple convolution operation using a moving average filter.\"\"\"\n",
        "    return np.convolve(scores, np.ones(kernel_size)/kernel_size, mode='same')\n",
        "\n",
        "def activation_function(c, eta):\n",
        "    \"\"\"HSF activation function: Binary classification.\"\"\"\n",
        "    return np.where(c > eta, 0, 1)\n",
        "\n",
        "def batch_normalization(scores):\n",
        "    \"\"\"Perform batch normalization.\"\"\"\n",
        "    mean = np.mean(scores)\n",
        "    std = np.std(scores)\n",
        "    return (scores - mean) / (std + 1e-6)\n",
        "\n",
        "def classify_influenced_nodes(df, eta=50_000_000, max_iter=100):\n",
        "    \"\"\"Classify influenced nodes based on engagement and reach.\"\"\"\n",
        "    df = generate_rules(df)\n",
        "    scores = df['Score'].values\n",
        "\n",
        "    for _ in range(max_iter):\n",
        "        conv_scores = convolution_operation(scores)\n",
        "        activated_nodes = activation_function(conv_scores, eta)\n",
        "        normalized_scores = batch_normalization(conv_scores)\n",
        "\n",
        "        df['Activated'] = activated_nodes\n",
        "        df['Normalized'] = normalized_scores\n",
        "\n",
        "        loss = np.sum(activated_nodes == 0)\n",
        "        if loss == 0:\n",
        "            break  # Stop criteria met\n",
        "\n",
        "    return df[df['Activated'] == 1]  # Return classified influenced nodes\n",
        "\n",
        "# Load dataset\n",
        "df = pd.read_csv('/content/sample_data/instagram_data_india.csv')  # Update path\n",
        "influenced_nodes = classify_influenced_nodes(df)\n",
        "\n",
        "# Check results\n",
        "print(influenced_nodes)"
      ]
    }
  ]
}